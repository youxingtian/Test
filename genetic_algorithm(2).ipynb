{
 "cells": [
  {
   "cell_type": "markdown",
   "metadata": {},
   "source": [
    "### 遗传算法\n",
    "\n",
    "**遗传算法**是一种优化方法，其源于达尔文的自然选择学说。自然选择学说认为，在特定的环境下，各种生物的那些适应所在环境特点的功能有更高可能在代际遗传中得到保留（举例而言，在高寒地区的动物通常长有非常厚的毛）。自然选择在以下条件下就会产生：\n",
    "\n",
    "* 各种生物要有办法将自己的遗传特征传给后代\n",
    "* 环境中的遗传特征种类多种多样\n",
    "* 只有部分生物体才可以将自己的遗传特征传给后代，也就是“适者生存”\n",
    "\n",
    "这种“仿生学”的方法如何在算法中应用呢？"
   ]
  },
  {
   "cell_type": "markdown",
   "metadata": {},
   "source": [
    "#### 场景\n",
    "\n",
    "假设我们随机抽取100个用户来公司参观，并与自己喜欢的老师和产品经理互相交流。在他们来公司前，我们送了一组问卷，问卷内容包括：\n",
    "\n",
    "* 对数学视频的喜好程度\n",
    "* 对物理视频的喜好程度\n",
    "* 对英语视频的喜好程度\n",
    "\n",
    "在问卷中，他们需要对每个问题打一个分数，10分为最喜欢，0分为最不喜欢。\n",
    "\n",
    "现在，这100位用户会分坐10行10列，由于活动需要，我们需要保证同一个人的前、后、左、右邻座不能和这个人有很大的兴趣差异。\n",
    "\n",
    "他们的问卷数据在`questionnaire.csv`中，现在，你需要**用pandas 读取，并输出数据的前5行**"
   ]
  },
  {
   "cell_type": "code",
   "execution_count": 6,
   "metadata": {},
   "outputs": [
    {
     "data": {
      "text/html": [
       "<div>\n",
       "<style scoped>\n",
       "    .dataframe tbody tr th:only-of-type {\n",
       "        vertical-align: middle;\n",
       "    }\n",
       "\n",
       "    .dataframe tbody tr th {\n",
       "        vertical-align: top;\n",
       "    }\n",
       "\n",
       "    .dataframe thead th {\n",
       "        text-align: right;\n",
       "    }\n",
       "</style>\n",
       "<table border=\"1\" class=\"dataframe\">\n",
       "  <thead>\n",
       "    <tr style=\"text-align: right;\">\n",
       "      <th></th>\n",
       "      <th>math</th>\n",
       "      <th>physics</th>\n",
       "      <th>english</th>\n",
       "    </tr>\n",
       "    <tr>\n",
       "      <th>uid</th>\n",
       "      <th></th>\n",
       "      <th></th>\n",
       "      <th></th>\n",
       "    </tr>\n",
       "  </thead>\n",
       "  <tbody>\n",
       "    <tr>\n",
       "      <th>1</th>\n",
       "      <td>0</td>\n",
       "      <td>4</td>\n",
       "      <td>7</td>\n",
       "    </tr>\n",
       "    <tr>\n",
       "      <th>2</th>\n",
       "      <td>5</td>\n",
       "      <td>2</td>\n",
       "      <td>0</td>\n",
       "    </tr>\n",
       "    <tr>\n",
       "      <th>3</th>\n",
       "      <td>5</td>\n",
       "      <td>1</td>\n",
       "      <td>3</td>\n",
       "    </tr>\n",
       "    <tr>\n",
       "      <th>4</th>\n",
       "      <td>9</td>\n",
       "      <td>1</td>\n",
       "      <td>8</td>\n",
       "    </tr>\n",
       "    <tr>\n",
       "      <th>5</th>\n",
       "      <td>9</td>\n",
       "      <td>1</td>\n",
       "      <td>8</td>\n",
       "    </tr>\n",
       "  </tbody>\n",
       "</table>\n",
       "</div>"
      ],
      "text/plain": [
       "     math  physics  english\n",
       "uid                        \n",
       "1       0        4        7\n",
       "2       5        2        0\n",
       "3       5        1        3\n",
       "4       9        1        8\n",
       "5       9        1        8"
      ]
     },
     "execution_count": 6,
     "metadata": {},
     "output_type": "execute_result"
    }
   ],
   "source": [
    "import pandas as pd\n",
    "\n",
    "# 读取 questionnaire.csv, 存到 df 中，并将第一列（uid）设置为索引\n",
    "### CODE HERE\n",
    "df = pd.read_csv(\"questionnaire.csv\", index_col=0)\n",
    "df.head()"
   ]
  },
  {
   "cell_type": "markdown",
   "metadata": {},
   "source": [
    "有了数据，首先我们可以尝试将问题和数据形式化。在这个问题里，我们的输出显然是个10×10的矩阵，我们可以通过这个矩阵为这100个用户安排座位。为了让遗传算法听起来更有生物范儿，我们可以把矩阵叫做“染色体”，把矩阵中每个元素（座位和座位上的用户）叫做“基因”，这样我们就可以提出很多染色体，这些染色体有的符合问题的要求，有的不符合。\n",
    "\n",
    "所以，我们可以先随机生成10个染色体。**请将所有uid随机分配到一个名为 `user_mat` 的10×10的numpy矩阵中**"
   ]
  },
  {
   "cell_type": "code",
   "execution_count": 7,
   "metadata": {},
   "outputs": [
    {
     "data": {
      "text/plain": [
       "matrix([[83, 74, 89, 73, 53, 95, 70, 47, 81, 23],\n",
       "        [55, 50, 75, 46, 20, 96, 34, 29, 39, 43],\n",
       "        [12, 92, 87, 14,  7, 76, 90, 33, 21, 86],\n",
       "        [48, 79, 65, 19, 44, 51, 98, 10,  5, 84],\n",
       "        [60, 49, 30, 66, 16, 52,  1, 59, 62, 17],\n",
       "        [35, 88, 26, 45, 24, 32, 27, 56, 93, 13],\n",
       "        [58,  4, 28, 82,  3, 68, 42, 91, 18, 22],\n",
       "        [ 0, 57, 15,  2, 64, 85, 72, 40, 67, 94],\n",
       "        [ 9, 25, 78, 37, 99, 61,  6, 36, 77, 31],\n",
       "        [80, 54, 63, 69, 38, 71, 41,  8, 11, 97]])"
      ]
     },
     "execution_count": 7,
     "metadata": {},
     "output_type": "execute_result"
    }
   ],
   "source": [
    "import numpy as np\n",
    "\n",
    "### CODE HERE\n",
    "user_mat = np.random.permutation(range(100)).reshape((10,10))\n",
    "user_mat = np.matrix(user_mat)\n",
    "user_mat"
   ]
  },
  {
   "cell_type": "markdown",
   "metadata": {},
   "source": [
    "接下来，**随机\"shuffle\" `user_mat` 十次，并将返回的“染色体”保存到 `initial_population`**"
   ]
  },
  {
   "cell_type": "code",
   "execution_count": 8,
   "metadata": {},
   "outputs": [],
   "source": [
    "initial_population = []\n",
    "\n",
    "for x in range(10):\n",
    "    user_mat = np.random.permutation(range(100)).reshape((10,10))\n",
    "    initial_population.append(user_mat)"
   ]
  },
  {
   "cell_type": "code",
   "execution_count": 9,
   "metadata": {},
   "outputs": [
    {
     "data": {
      "text/plain": [
       "[array([[33,  5, 82, 88, 81, 97, 43,  8, 39, 93],\n",
       "        [10,  3, 35, 99, 65, 18,  7,  4, 62, 44],\n",
       "        [30, 76, 37, 19, 52, 36, 72, 70, 21, 34],\n",
       "        [96, 20, 71, 95,  0, 77, 60, 27, 84, 17],\n",
       "        [14, 94, 66, 63, 23, 58, 29, 24, 78, 38],\n",
       "        [49, 75, 64, 68, 55, 69, 67, 16, 54, 53],\n",
       "        [11,  9, 83, 92,  6, 46,  1, 26, 79, 13],\n",
       "        [42, 98, 32, 25, 31, 59, 28, 90, 56, 57],\n",
       "        [61, 15, 48, 87, 12, 80, 73, 74, 41, 50],\n",
       "        [22, 51, 89, 86, 85, 45, 91, 47, 40,  2]]),\n",
       " array([[65, 55, 19, 17,  7, 91,  0, 62,  5, 72],\n",
       "        [66, 32, 77, 11, 97, 51, 24, 95, 40, 80],\n",
       "        [79, 12, 61, 67, 20, 39, 92, 70, 48, 88],\n",
       "        [84, 78, 22, 76, 69, 38, 10, 36,  3, 64],\n",
       "        [54, 96, 14, 21, 44, 45,  9, 52, 42, 74],\n",
       "        [16, 58, 89,  6, 71, 25, 75, 86, 94, 34],\n",
       "        [83,  1,  8, 41, 82, 59, 47, 99, 57, 63],\n",
       "        [29, 26, 28, 93, 35, 85, 50, 37, 18, 60],\n",
       "        [13, 81, 56, 31, 27,  4, 90, 30, 46, 98],\n",
       "        [23, 87, 68, 33, 49, 73,  2, 53, 43, 15]]),\n",
       " array([[48, 18, 33, 22, 89, 74, 77, 86, 90, 52],\n",
       "        [31, 27, 23, 19, 30, 88, 92, 85, 36, 91],\n",
       "        [42, 10, 59, 84, 87,  9, 94, 98, 11, 69],\n",
       "        [60, 39, 34,  0, 16, 50,  7, 70, 40, 67],\n",
       "        [80, 26, 55, 54,  3, 32,  4, 44, 14, 13],\n",
       "        [79, 29, 73, 53, 38, 47, 24, 76, 57, 12],\n",
       "        [71, 15, 49, 75, 43, 68, 63, 51, 93, 99],\n",
       "        [25, 62, 96, 95,  8, 78, 64, 41, 35, 21],\n",
       "        [81, 37, 56,  2, 66, 17, 97,  1, 28, 72],\n",
       "        [65, 45,  6, 20, 58, 83, 46,  5, 82, 61]]),\n",
       " array([[59, 92, 53, 99, 62, 36, 43, 77, 38,  7],\n",
       "        [17, 60, 57, 19,  9, 13, 56, 11, 28, 55],\n",
       "        [41, 64,  0, 25, 68,  5, 46, 42, 98, 65],\n",
       "        [48, 97, 10, 74, 39,  3, 96, 33, 18, 49],\n",
       "        [54, 35, 70, 34, 22, 72, 58, 45, 78, 79],\n",
       "        [82, 24,  8, 86, 32, 63, 80, 26, 44, 90],\n",
       "        [93, 94, 87, 91, 14,  1, 88, 69,  6, 27],\n",
       "        [67, 95, 85, 73, 23, 15, 89, 81, 29, 84],\n",
       "        [21,  2, 52, 30, 20, 61, 31, 40, 83, 76],\n",
       "        [47, 75, 50, 37, 16, 71, 51, 12, 66,  4]]),\n",
       " array([[14, 73,  6, 48, 44, 92, 11,  1, 72, 54],\n",
       "        [41, 16, 43, 95, 23, 62, 98, 86, 37, 34],\n",
       "        [49, 79, 50, 22, 78, 93, 83, 21, 89, 55],\n",
       "        [36, 65, 66, 42,  5, 84, 33,  3,  8, 57],\n",
       "        [32, 45, 75, 71, 61, 63, 80, 28, 18, 35],\n",
       "        [13,  4,  2, 88, 69, 26, 81, 10,  0, 96],\n",
       "        [ 7, 82, 67, 59, 51, 76, 91, 94, 17, 99],\n",
       "        [90, 25, 47, 24, 46, 29, 64, 27, 56, 20],\n",
       "        [53, 87, 52, 15, 19, 31, 77, 38, 68, 85],\n",
       "        [97, 39, 30, 74, 58,  9, 12, 60, 70, 40]]),\n",
       " array([[29,  4, 37, 48, 91, 84, 68, 21, 15, 27],\n",
       "        [55, 89, 59, 28, 30, 57, 38, 79, 22, 24],\n",
       "        [26, 39, 95, 20, 49, 70, 65, 97, 31,  9],\n",
       "        [73,  7, 96,  6, 80,  2, 35, 40, 75, 23],\n",
       "        [44, 83, 56, 92, 90, 33, 86,  0, 18, 98],\n",
       "        [64, 16, 76, 81, 12, 32,  8, 47, 53, 77],\n",
       "        [63, 45, 52, 41, 43,  1, 58, 51, 10, 93],\n",
       "        [69, 67, 61, 71, 72, 74, 87, 25, 14, 62],\n",
       "        [ 3, 88, 99, 60, 17, 11, 13, 46, 36, 19],\n",
       "        [50, 54, 42, 85, 94, 78, 66, 82,  5, 34]]),\n",
       " array([[ 9, 38, 61, 79, 39, 29, 50, 87, 84, 95],\n",
       "        [37,  6, 48, 27, 68, 55, 33, 94, 35, 70],\n",
       "        [44, 11, 17, 82, 85, 12,  3, 24, 42,  4],\n",
       "        [14, 46, 89, 83, 65, 41, 34, 99, 36, 15],\n",
       "        [30, 91, 62, 54, 21, 92, 28, 86, 51, 31],\n",
       "        [88, 80, 52,  7, 20, 78, 23, 96,  2, 25],\n",
       "        [69, 56,  0, 77, 73, 19, 75,  1, 98, 64],\n",
       "        [81, 26, 97, 90, 43, 67, 66, 13, 18, 40],\n",
       "        [72, 71, 22, 59, 63,  5, 32, 49, 10, 45],\n",
       "        [93, 76,  8, 47, 57, 58, 74, 53, 16, 60]]),\n",
       " array([[ 0, 53,  1, 90, 16, 43, 87, 42, 45,  9],\n",
       "        [56, 66, 74, 91, 49, 19, 62, 84, 80, 32],\n",
       "        [59, 10, 21, 96, 47,  5, 60, 64, 58, 78],\n",
       "        [57, 50, 31, 93, 75, 69, 97, 18, 81, 23],\n",
       "        [85, 63, 71, 29, 44, 37, 52, 67, 92,  3],\n",
       "        [27, 54, 94, 51, 65, 77, 89, 70, 95, 26],\n",
       "        [28, 48, 14, 12, 55, 73, 68, 20,  7, 24],\n",
       "        [99, 39, 22, 34, 88, 38, 82, 40, 33, 15],\n",
       "        [ 2, 11,  6, 79, 83, 46, 61, 76, 25, 98],\n",
       "        [ 8,  4, 17, 72, 36, 41, 13, 30, 35, 86]]),\n",
       " array([[40,  6, 56, 45, 23, 20, 11, 81, 75, 44],\n",
       "        [89, 16, 71, 34, 73, 43, 24, 17,  9, 52],\n",
       "        [53, 10, 33, 91, 66, 80, 86, 29,  7, 84],\n",
       "        [ 5, 96, 19, 64, 27, 62, 30, 49, 98, 60],\n",
       "        [78, 28, 26,  2, 94, 85, 95, 22, 88, 77],\n",
       "        [63, 42, 41, 32, 61, 79,  0, 87, 58, 67],\n",
       "        [54, 82,  1, 55, 70, 38, 72, 69, 47,  8],\n",
       "        [57, 13, 31,  3, 97, 90, 21, 68, 18, 50],\n",
       "        [65, 25, 35, 12, 15, 48, 76, 51, 46, 39],\n",
       "        [36,  4, 14, 92, 74, 59, 37, 83, 93, 99]]),\n",
       " array([[39, 14, 54, 94, 17, 27, 13, 41, 45, 37],\n",
       "        [34, 42, 80, 26, 71, 60, 63, 62, 22, 51],\n",
       "        [79,  3, 25, 12,  9, 64, 11, 78, 61, 99],\n",
       "        [19, 73, 29, 47, 35, 38, 87, 58,  7,  2],\n",
       "        [36, 30, 72,  4, 76,  1, 85, 24, 96, 33],\n",
       "        [20, 43, 44, 18,  0, 70, 97, 95,  8, 90],\n",
       "        [31, 74, 50, 92, 86, 15, 52, 68, 82, 66],\n",
       "        [83, 59, 81, 28, 75, 89, 48, 56, 32, 40],\n",
       "        [53, 65, 98, 93,  5, 69, 91, 46, 21,  6],\n",
       "        [10, 67, 55, 23, 84, 88, 16, 49, 57, 77]])]"
      ]
     },
     "execution_count": 9,
     "metadata": {},
     "output_type": "execute_result"
    }
   ],
   "source": [
    "initial_population"
   ]
  },
  {
   "cell_type": "markdown",
   "metadata": {},
   "source": [
    "#### 适者生存\n",
    "\n",
    "接下来是重头戏 —— 适者生存环节了。我们如何让这10条染色体“弱肉强食，适者生存”呢？\n",
    "\n",
    "刚刚说到，我们需要保证同一个人的前、后、左、右邻座不能和这个人有很大的兴趣差异。那么首先就要衡量这种“差异”。\n",
    "\n",
    "请**写一个函数，输入是用户A（`person`）和一组用户B的数据（`*others`），返回A同B中每个用户喜好的平均曼哈顿距离**。"
   ]
  },
  {
   "cell_type": "code",
   "execution_count": 10,
   "metadata": {},
   "outputs": [],
   "source": [
    "from scipy.spatial.distance import pdist\n",
    "\n",
    "def calculate_interest_distance(person, *others):\n",
    "    people = [df.iloc[person, 0:3]]\n",
    "    for other in others:\n",
    "        if other:\n",
    "            people.append(df.iloc[other, 0:3])\n",
    "\n",
    "    return np.average(pdist(people, 'cityblock')) if len(people) > 1 else 0"
   ]
  },
  {
   "cell_type": "markdown",
   "metadata": {},
   "source": [
    "现在我们已经有了衡量“差距”的方法，我们就可以将其作为染色体“适应性”的度量。\n",
    "\n",
    "接下来自然是为每条染色体的每个基因计算其距离了。我们会遍历每条染色体，为所有基因计算它与它前、后、左、右四个neighbor的距离。由于并非所有基因都有前后左右四个邻居，本着防御性编程的精神，我们先写个函数处理对应邻居不存在的意外情况。"
   ]
  },
  {
   "cell_type": "code",
   "execution_count": 11,
   "metadata": {},
   "outputs": [],
   "source": [
    "def get_element_safe(sequence, position):\n",
    "    try:\n",
    "        return sequence.item(position)\n",
    "    except IndexError:\n",
    "        return None"
   ]
  },
  {
   "cell_type": "markdown",
   "metadata": {},
   "source": [
    "接下来就可以动手了！请**补全`calculate_chromosome_fitness`函数，该函数接收一个染色体，并为该染色体上的每个基因计算曼哈顿距离，最后以这些距离的平均值作为这条染色体的“适者程度”**"
   ]
  },
  {
   "cell_type": "code",
   "execution_count": 12,
   "metadata": {},
   "outputs": [],
   "source": [
    "def calculate_chromosome_fitness(chromosome):\n",
    "    fitnesses = []\n",
    "    for index, gene in np.ndenumerate(chromosome):\n",
    "        next_to = calculate_interest_distance(gene,\n",
    "                                             get_element_safe(chromosome, (index[0], index[1] - 1)),\n",
    "                                             get_element_safe(chromosome, (index[0], index[1] + 1)))\n",
    "        in_front = calculate_interest_distance(gene,\n",
    "                                               get_element_safe(chromosome, (index[0], index[0] - 1)))\n",
    "        behind = calculate_interest_distance(gene,\n",
    "                                             get_element_safe(chromosome, (index[0], index[0] + 1)))\n",
    "        fitnesses.append(sum([next_to, in_front, behind]) / 3)\n",
    "    return np.average(fitnesses)"
   ]
  },
  {
   "cell_type": "markdown",
   "metadata": {},
   "source": [
    "好的，这样我们就可以比较刚刚产生的10条染色体了。现在可以遍历每条染色体，计算染色体适应性，最后将相关信息保存起来。"
   ]
  },
  {
   "cell_type": "code",
   "execution_count": 13,
   "metadata": {},
   "outputs": [],
   "source": [
    "generations = []\n",
    "\n",
    "for chromosome in initial_population:\n",
    "    generations.append({\n",
    "        \"generation\": 0,\n",
    "        \"fitness\": calculate_chromosome_fitness(chromosome),\n",
    "        \"chromosome\": chromosome,\n",
    "        \"active\": True\n",
    "    })"
   ]
  },
  {
   "cell_type": "markdown",
   "metadata": {},
   "source": [
    "现在来看看结果吧！请**以 `fitness` 为 key，为generations排序**"
   ]
  },
  {
   "cell_type": "code",
   "execution_count": 14,
   "metadata": {},
   "outputs": [
    {
     "data": {
      "text/plain": [
       "[{'generation': 0,\n",
       "  'fitness': 8.667777777777777,\n",
       "  'chromosome': array([[33,  5, 82, 88, 81, 97, 43,  8, 39, 93],\n",
       "         [10,  3, 35, 99, 65, 18,  7,  4, 62, 44],\n",
       "         [30, 76, 37, 19, 52, 36, 72, 70, 21, 34],\n",
       "         [96, 20, 71, 95,  0, 77, 60, 27, 84, 17],\n",
       "         [14, 94, 66, 63, 23, 58, 29, 24, 78, 38],\n",
       "         [49, 75, 64, 68, 55, 69, 67, 16, 54, 53],\n",
       "         [11,  9, 83, 92,  6, 46,  1, 26, 79, 13],\n",
       "         [42, 98, 32, 25, 31, 59, 28, 90, 56, 57],\n",
       "         [61, 15, 48, 87, 12, 80, 73, 74, 41, 50],\n",
       "         [22, 51, 89, 86, 85, 45, 91, 47, 40,  2]]),\n",
       "  'active': True},\n",
       " {'generation': 0,\n",
       "  'fitness': 8.783333333333331,\n",
       "  'chromosome': array([[48, 18, 33, 22, 89, 74, 77, 86, 90, 52],\n",
       "         [31, 27, 23, 19, 30, 88, 92, 85, 36, 91],\n",
       "         [42, 10, 59, 84, 87,  9, 94, 98, 11, 69],\n",
       "         [60, 39, 34,  0, 16, 50,  7, 70, 40, 67],\n",
       "         [80, 26, 55, 54,  3, 32,  4, 44, 14, 13],\n",
       "         [79, 29, 73, 53, 38, 47, 24, 76, 57, 12],\n",
       "         [71, 15, 49, 75, 43, 68, 63, 51, 93, 99],\n",
       "         [25, 62, 96, 95,  8, 78, 64, 41, 35, 21],\n",
       "         [81, 37, 56,  2, 66, 17, 97,  1, 28, 72],\n",
       "         [65, 45,  6, 20, 58, 83, 46,  5, 82, 61]]),\n",
       "  'active': True},\n",
       " {'generation': 0,\n",
       "  'fitness': 8.888888888888891,\n",
       "  'chromosome': array([[40,  6, 56, 45, 23, 20, 11, 81, 75, 44],\n",
       "         [89, 16, 71, 34, 73, 43, 24, 17,  9, 52],\n",
       "         [53, 10, 33, 91, 66, 80, 86, 29,  7, 84],\n",
       "         [ 5, 96, 19, 64, 27, 62, 30, 49, 98, 60],\n",
       "         [78, 28, 26,  2, 94, 85, 95, 22, 88, 77],\n",
       "         [63, 42, 41, 32, 61, 79,  0, 87, 58, 67],\n",
       "         [54, 82,  1, 55, 70, 38, 72, 69, 47,  8],\n",
       "         [57, 13, 31,  3, 97, 90, 21, 68, 18, 50],\n",
       "         [65, 25, 35, 12, 15, 48, 76, 51, 46, 39],\n",
       "         [36,  4, 14, 92, 74, 59, 37, 83, 93, 99]]),\n",
       "  'active': True},\n",
       " {'generation': 0,\n",
       "  'fitness': 8.905555555555555,\n",
       "  'chromosome': array([[65, 55, 19, 17,  7, 91,  0, 62,  5, 72],\n",
       "         [66, 32, 77, 11, 97, 51, 24, 95, 40, 80],\n",
       "         [79, 12, 61, 67, 20, 39, 92, 70, 48, 88],\n",
       "         [84, 78, 22, 76, 69, 38, 10, 36,  3, 64],\n",
       "         [54, 96, 14, 21, 44, 45,  9, 52, 42, 74],\n",
       "         [16, 58, 89,  6, 71, 25, 75, 86, 94, 34],\n",
       "         [83,  1,  8, 41, 82, 59, 47, 99, 57, 63],\n",
       "         [29, 26, 28, 93, 35, 85, 50, 37, 18, 60],\n",
       "         [13, 81, 56, 31, 27,  4, 90, 30, 46, 98],\n",
       "         [23, 87, 68, 33, 49, 73,  2, 53, 43, 15]]),\n",
       "  'active': True},\n",
       " {'generation': 0,\n",
       "  'fitness': 8.90777777777778,\n",
       "  'chromosome': array([[59, 92, 53, 99, 62, 36, 43, 77, 38,  7],\n",
       "         [17, 60, 57, 19,  9, 13, 56, 11, 28, 55],\n",
       "         [41, 64,  0, 25, 68,  5, 46, 42, 98, 65],\n",
       "         [48, 97, 10, 74, 39,  3, 96, 33, 18, 49],\n",
       "         [54, 35, 70, 34, 22, 72, 58, 45, 78, 79],\n",
       "         [82, 24,  8, 86, 32, 63, 80, 26, 44, 90],\n",
       "         [93, 94, 87, 91, 14,  1, 88, 69,  6, 27],\n",
       "         [67, 95, 85, 73, 23, 15, 89, 81, 29, 84],\n",
       "         [21,  2, 52, 30, 20, 61, 31, 40, 83, 76],\n",
       "         [47, 75, 50, 37, 16, 71, 51, 12, 66,  4]]),\n",
       "  'active': True},\n",
       " {'generation': 0,\n",
       "  'fitness': 9.02,\n",
       "  'chromosome': array([[39, 14, 54, 94, 17, 27, 13, 41, 45, 37],\n",
       "         [34, 42, 80, 26, 71, 60, 63, 62, 22, 51],\n",
       "         [79,  3, 25, 12,  9, 64, 11, 78, 61, 99],\n",
       "         [19, 73, 29, 47, 35, 38, 87, 58,  7,  2],\n",
       "         [36, 30, 72,  4, 76,  1, 85, 24, 96, 33],\n",
       "         [20, 43, 44, 18,  0, 70, 97, 95,  8, 90],\n",
       "         [31, 74, 50, 92, 86, 15, 52, 68, 82, 66],\n",
       "         [83, 59, 81, 28, 75, 89, 48, 56, 32, 40],\n",
       "         [53, 65, 98, 93,  5, 69, 91, 46, 21,  6],\n",
       "         [10, 67, 55, 23, 84, 88, 16, 49, 57, 77]]),\n",
       "  'active': True},\n",
       " {'generation': 0,\n",
       "  'fitness': 9.04888888888889,\n",
       "  'chromosome': array([[29,  4, 37, 48, 91, 84, 68, 21, 15, 27],\n",
       "         [55, 89, 59, 28, 30, 57, 38, 79, 22, 24],\n",
       "         [26, 39, 95, 20, 49, 70, 65, 97, 31,  9],\n",
       "         [73,  7, 96,  6, 80,  2, 35, 40, 75, 23],\n",
       "         [44, 83, 56, 92, 90, 33, 86,  0, 18, 98],\n",
       "         [64, 16, 76, 81, 12, 32,  8, 47, 53, 77],\n",
       "         [63, 45, 52, 41, 43,  1, 58, 51, 10, 93],\n",
       "         [69, 67, 61, 71, 72, 74, 87, 25, 14, 62],\n",
       "         [ 3, 88, 99, 60, 17, 11, 13, 46, 36, 19],\n",
       "         [50, 54, 42, 85, 94, 78, 66, 82,  5, 34]]),\n",
       "  'active': True},\n",
       " {'generation': 0,\n",
       "  'fitness': 9.073333333333334,\n",
       "  'chromosome': array([[14, 73,  6, 48, 44, 92, 11,  1, 72, 54],\n",
       "         [41, 16, 43, 95, 23, 62, 98, 86, 37, 34],\n",
       "         [49, 79, 50, 22, 78, 93, 83, 21, 89, 55],\n",
       "         [36, 65, 66, 42,  5, 84, 33,  3,  8, 57],\n",
       "         [32, 45, 75, 71, 61, 63, 80, 28, 18, 35],\n",
       "         [13,  4,  2, 88, 69, 26, 81, 10,  0, 96],\n",
       "         [ 7, 82, 67, 59, 51, 76, 91, 94, 17, 99],\n",
       "         [90, 25, 47, 24, 46, 29, 64, 27, 56, 20],\n",
       "         [53, 87, 52, 15, 19, 31, 77, 38, 68, 85],\n",
       "         [97, 39, 30, 74, 58,  9, 12, 60, 70, 40]]),\n",
       "  'active': True},\n",
       " {'generation': 0,\n",
       "  'fitness': 9.164444444444445,\n",
       "  'chromosome': array([[ 9, 38, 61, 79, 39, 29, 50, 87, 84, 95],\n",
       "         [37,  6, 48, 27, 68, 55, 33, 94, 35, 70],\n",
       "         [44, 11, 17, 82, 85, 12,  3, 24, 42,  4],\n",
       "         [14, 46, 89, 83, 65, 41, 34, 99, 36, 15],\n",
       "         [30, 91, 62, 54, 21, 92, 28, 86, 51, 31],\n",
       "         [88, 80, 52,  7, 20, 78, 23, 96,  2, 25],\n",
       "         [69, 56,  0, 77, 73, 19, 75,  1, 98, 64],\n",
       "         [81, 26, 97, 90, 43, 67, 66, 13, 18, 40],\n",
       "         [72, 71, 22, 59, 63,  5, 32, 49, 10, 45],\n",
       "         [93, 76,  8, 47, 57, 58, 74, 53, 16, 60]]),\n",
       "  'active': True},\n",
       " {'generation': 0,\n",
       "  'fitness': 9.254444444444445,\n",
       "  'chromosome': array([[ 0, 53,  1, 90, 16, 43, 87, 42, 45,  9],\n",
       "         [56, 66, 74, 91, 49, 19, 62, 84, 80, 32],\n",
       "         [59, 10, 21, 96, 47,  5, 60, 64, 58, 78],\n",
       "         [57, 50, 31, 93, 75, 69, 97, 18, 81, 23],\n",
       "         [85, 63, 71, 29, 44, 37, 52, 67, 92,  3],\n",
       "         [27, 54, 94, 51, 65, 77, 89, 70, 95, 26],\n",
       "         [28, 48, 14, 12, 55, 73, 68, 20,  7, 24],\n",
       "         [99, 39, 22, 34, 88, 38, 82, 40, 33, 15],\n",
       "         [ 2, 11,  6, 79, 83, 46, 61, 76, 25, 98],\n",
       "         [ 8,  4, 17, 72, 36, 41, 13, 30, 35, 86]]),\n",
       "  'active': True}]"
      ]
     },
     "execution_count": 14,
     "metadata": {},
     "output_type": "execute_result"
    }
   ],
   "source": [
    "# CODE HERE\n",
    "# sorted(generations, key=\"fitness\")\n",
    "sorted(generations, key=lambda x: x['fitness'])"
   ]
  },
  {
   "cell_type": "markdown",
   "metadata": {},
   "source": [
    "#### 繁衍生息\n",
    "\n",
    "接下来就要真正的“适者生存”了。在进化论中，只有优秀的基因才有资格繁衍出下一代。我们要让两个优秀染色体结合，“生出“一个孩子来。\n",
    "\n",
    "具体的”繁衍规则“可以多种多样，在这里我们规定如下：\n",
    "* 对于id在1-50的用户，其基因来自于母亲\n",
    "* 对于id在51-100的用户，其基因来自于父亲\n",
    "* 如果基因有冲突（两个用户被指向同一个位置），就再随机挑选一个位置\n",
    "\n",
    "现在请**补全”遗传规则“**"
   ]
  },
  {
   "cell_type": "code",
   "execution_count": 15,
   "metadata": {},
   "outputs": [],
   "source": [
    "import random\n",
    "\n",
    "def recombine(mother, father):\n",
    "    child = np.ones((10,10)) * -1\n",
    "    child = child.astype(np.int)\n",
    "    # 遍历每个用户\n",
    "    for index, uid in np.ndenumerate(np.array(df)):\n",
    "        if uid <= 50:\n",
    "            # 如果uid <=50，则position为mother中该uid的位置\n",
    "            position = np.where(mother == uid)\n",
    "        else:\n",
    "            # 如果uid > 50，则position为father中该uid的位置\n",
    "            position = np.where(father == uid)\n",
    "        \n",
    "        try:\n",
    "            if child[position] != -1:\n",
    "                # 处理冲突\n",
    "                filtered = np.where(np.equal(child, -1))\n",
    "                position = random.choice(list(zip(filtered[0], filtered[1])))\n",
    "        except:\n",
    "            exit()\n",
    "\n",
    "        child[position] = int(uid)\n",
    "\n",
    "    return child"
   ]
  },
  {
   "cell_type": "code",
   "execution_count": null,
   "metadata": {},
   "outputs": [],
   "source": []
  },
  {
   "cell_type": "markdown",
   "metadata": {},
   "source": [
    "但是这种遗传规则可能会导致”近亲遗传“，进而不利于物种的进化，还好我们可以设计一套基因变异的方案，也就是随机调换一些基因（就是用户座位）的位置，以保证生物多样性。"
   ]
  },
  {
   "cell_type": "code",
   "execution_count": 16,
   "metadata": {},
   "outputs": [],
   "source": [
    "import random\n",
    "\n",
    "def mutate_chromosome(chromosome):\n",
    "    first = (random.randrange(0, 10, 1), random.randrange(0, 10, 1))\n",
    "    second = (random.randrange(0, 10, 1), random.randrange(0, 10, 1))\n",
    "\n",
    "    chromosome[first[0], first[1]], chromosome[second[0], second[1]] = chromosome[second[0], second[1]], chromosome[first[0], first[1]]\n",
    "    return chromosome"
   ]
  },
  {
   "cell_type": "markdown",
   "metadata": {},
   "source": [
    "#### 可视化\n",
    "\n",
    "接下来我们来将每条染色体的适应性都可视化出来，为了更生物一点，我们用类似于基因图谱的形式绘制每条染色体的基因情况"
   ]
  },
  {
   "cell_type": "code",
   "execution_count": 17,
   "metadata": {},
   "outputs": [],
   "source": [
    "import matplotlib.pyplot as plt\n",
    "%matplotlib inline\n",
    "\n",
    "def draw_population(population, generation):\n",
    "#     get_ids = np.vectorize(get_id)\n",
    "    figure, axes = plt.subplots(1, 10, figsize=(20, 3))\n",
    "\n",
    "    for index, chromosome in enumerate(population):\n",
    "        ids = chromosome\n",
    "#         print(index)\n",
    "        axes[index].imshow(ids, interpolation=\"nearest\", cmap=plt.cm.plasma)\n",
    "        subplot_title = \"Chromosome \" + str(index)\n",
    "        axes[index].set_title(subplot_title)\n",
    "\n",
    "    plot_title = \"Generation \" + str(generation)\n",
    "    figure.suptitle(plot_title)\n",
    "    plt.show()"
   ]
  },
  {
   "cell_type": "code",
   "execution_count": null,
   "metadata": {},
   "outputs": [],
   "source": []
  },
  {
   "cell_type": "code",
   "execution_count": 18,
   "metadata": {},
   "outputs": [
    {
     "data": {
      "image/png": "[encoded data removed]",
      "text/plain": [
       "<Figure size 1440x216 with 10 Axes>"
      ]
     },
     "metadata": {
      "needs_background": "light"
     },
     "output_type": "display_data"
    }
   ],
   "source": [
    "draw_population(initial_population, 0)"
   ]
  },
  {
   "cell_type": "markdown",
   "metadata": {},
   "source": [
    "#### 又到了交配的季节\n",
    "\n",
    "现在就可以交配了。我们可以设定如下终止条件，如果终止条件没有被触发，就可以一直交配下去：\n",
    "* 代数达到上限\n",
    "* 后代的适应性超过阈值\n",
    "* 后代适应性退化\n",
    "\n",
    "这里我们迭代最多50次，在50代交配中，只要有染色体达到或超过优质标准（距离小于5）就停止。\n",
    "\n",
    "现在来实现交配逻辑吧！\n"
   ]
  },
  {
   "cell_type": "code",
   "execution_count": 19,
   "metadata": {},
   "outputs": [],
   "source": [
    "import copy\n",
    "\n",
    "most_fit = []\n",
    "\n",
    "# 当前的适应度\n",
    "max_fitness = None\n",
    "\n",
    "# 适应度最高的染色体\n",
    "fittest_chromosome = None"
   ]
  },
  {
   "cell_type": "code",
   "execution_count": 20,
   "metadata": {},
   "outputs": [],
   "source": [
    "### 从generations取出某一代的所有染色体，并排序\n",
    "def get_chromosomes_in_generation(generations, generation_num):\n",
    "    # Get only the chromosomes in this generation\n",
    "    generation = list(filter(lambda k: k['generation'] == generation_num, \n",
    "                             generations))\n",
    "    return sorted(generation, key=lambda k: k['fitness'])\n",
    "\n",
    "\n",
    "### 更新 most_fit / max_fitness / fittest_chromosome \n",
    "def sort_chromosomes(generation, most_fit):\n",
    "    max_fitness = generation[0]['fitness']\n",
    "    most_fit.append(max_fitness)\n",
    "    fittest_chromosome = generation[0]['chromosome']\n",
    "    return most_fit, fittest_chromosome"
   ]
  },
  {
   "cell_type": "markdown",
   "metadata": {},
   "source": [
    "在这个交配游戏中，每一代我们都会让适应度最好的四个染色体交配，生下两个后代，然后杀掉适应度最差的两个染色体以取而代之。为了防止数据污染，对每一代我们都复制仍存活的染色体数据。"
   ]
  },
  {
   "cell_type": "code",
   "execution_count": 21,
   "metadata": {},
   "outputs": [],
   "source": [
    "# 请将以下Comment 添加到代码的合适位置\n",
    "# A. 将适应度最高的两条染色体交配\n",
    "# B. 将新一代染色体加入到generations中并返回\n",
    "# C. 将适应度最差的两个染色体杀掉\n",
    "# D. 找到仍存活的染色体，并更新代数\n",
    "# E. 将适应度第三和第四高的两条染色体交配\n",
    "\n",
    "\n",
    "def copy_chromosomes(generation, generations):\n",
    "    new_generation = copy.deepcopy(generation)\n",
    "    \n",
    "    new_generation[-1]['active'] = False\n",
    "    new_generation[-2]['active'] = False\n",
    "    \n",
    "    active = list(filter(lambda k: k['active'] == True, new_generation))\n",
    "    for chromosome in active:\n",
    "        chromosome['generation'] += 1\n",
    "    \n",
    "    \n",
    "    generations.extend(active)\n",
    "    return generations\n",
    "\n",
    "\n",
    "def mate_chromosomes(generation, generations, generation_num):\n",
    "    \n",
    "    child = recombine(generation[0]['chromosome'], generation[1]['chromosome'])\n",
    "    child = mutate_chromosome(child)\n",
    "    generations.append({\n",
    "      \"active\": True,\n",
    "      \"chromosome\": child,\n",
    "      \"generation\": generation_num + 1,\n",
    "      \"fitness\": calculate_chromosome_fitness(child)\n",
    "    })\n",
    "\n",
    "    other = recombine(generation[2]['chromosome'], generation[3]['chromosome'])\n",
    "    other = mutate_chromosome(chromosome)\n",
    "    generations.append({\n",
    "      \"active\": True,\n",
    "      \"chromosome\": other,\n",
    "      \"generation\": generation_num + 1,\n",
    "      \"fitness\": calculate_chromosome_fitness(other)\n",
    "    })\n",
    "    \n",
    "    return generations"
   ]
  },
  {
   "cell_type": "markdown",
   "metadata": {},
   "source": [
    "最后，我们用一个`main`函数将这些步骤封装起来"
   ]
  },
  {
   "cell_type": "code",
   "execution_count": 3,
   "metadata": {},
   "outputs": [],
   "source": [
    "def run_ga(input_generations):\n",
    "    fittest = []\n",
    "    max_fitness = None\n",
    "    fittest_chromo = None\n",
    "    for generation_num in range(50):\n",
    "        if max_fitness and max_fitness < 5:\n",
    "            break\n",
    "\n",
    "        generation = get_chromosomes_in_generation(input_generations, generation_num)\n",
    "        fittest, fittest_chromo = sort_chromosomes(generation, most_fit)\n",
    "\n",
    "        input_generations = copy_chromosomes(generation, input_generations)\n",
    "        input_generations = mate_chromosomes(generation, input_generations, generation_num)\n",
    "\n",
    "        draw_population(map(lambda d: d['chromosome'], \n",
    "                        get_chromosomes_in_generation(input_generations, generation_num)), generation_num)\n",
    "\n",
    "    return fittest, fittest_chromo"
   ]
  },
  {
   "cell_type": "code",
   "execution_count": 4,
   "metadata": {},
   "outputs": [
    {
     "ename": "NameError",
     "evalue": "name 'generations' is not defined",
     "output_type": "error",
     "traceback": [
      "\u001b[1;31m---------------------------------------------------------------------------\u001b[0m",
      "\u001b[1;31mNameError\u001b[0m                                 Traceback (most recent call last)",
      "\u001b[1;32m<ipython-input-4-70f85f62dce5>\u001b[0m in \u001b[0;36m<module>\u001b[1;34m\u001b[0m\n\u001b[1;32m----> 1\u001b[1;33m \u001b[0mmost_fit\u001b[0m\u001b[1;33m,\u001b[0m \u001b[0mfittest_chromosome\u001b[0m \u001b[1;33m=\u001b[0m \u001b[0mrun_ga\u001b[0m\u001b[1;33m(\u001b[0m\u001b[0mgenerations\u001b[0m\u001b[1;33m)\u001b[0m\u001b[1;33m\u001b[0m\u001b[1;33m\u001b[0m\u001b[0m\n\u001b[0m",
      "\u001b[1;31mNameError\u001b[0m: name 'generations' is not defined"
     ]
    }
   ],
   "source": [
    "most_fit, fittest_chromosome = run_ga(generations)"
   ]
  },
  {
   "cell_type": "markdown",
   "metadata": {},
   "source": [
    "到这里，遗传算法就告一段落了，我们最后看看这个model的表现吧"
   ]
  },
  {
   "cell_type": "code",
   "execution_count": 1,
   "metadata": {},
   "outputs": [
    {
     "ename": "NameError",
     "evalue": "name 'most_fit' is not defined",
     "output_type": "error",
     "traceback": [
      "\u001b[1;31m---------------------------------------------------------------------------\u001b[0m",
      "\u001b[1;31mNameError\u001b[0m                                 Traceback (most recent call last)",
      "\u001b[1;32m<ipython-input-1-a5c79b0cad1b>\u001b[0m in \u001b[0;36m<module>\u001b[1;34m\u001b[0m\n\u001b[0;32m      2\u001b[0m \u001b[0mget_ipython\u001b[0m\u001b[1;33m(\u001b[0m\u001b[1;33m)\u001b[0m\u001b[1;33m.\u001b[0m\u001b[0mrun_line_magic\u001b[0m\u001b[1;33m(\u001b[0m\u001b[1;34m'matplotlib'\u001b[0m\u001b[1;33m,\u001b[0m \u001b[1;34m'inline'\u001b[0m\u001b[1;33m)\u001b[0m\u001b[1;33m\u001b[0m\u001b[1;33m\u001b[0m\u001b[0m\n\u001b[0;32m      3\u001b[0m \u001b[1;33m\u001b[0m\u001b[0m\n\u001b[1;32m----> 4\u001b[1;33m \u001b[0mplt\u001b[0m\u001b[1;33m.\u001b[0m\u001b[0mplot\u001b[0m\u001b[1;33m(\u001b[0m\u001b[0mmost_fit\u001b[0m\u001b[1;33m)\u001b[0m\u001b[1;33m\u001b[0m\u001b[1;33m\u001b[0m\u001b[0m\n\u001b[0m\u001b[0;32m      5\u001b[0m \u001b[0mplt\u001b[0m\u001b[1;33m.\u001b[0m\u001b[0mtitle\u001b[0m\u001b[1;33m(\u001b[0m\u001b[1;34m\"Most Fit Trend\"\u001b[0m\u001b[1;33m)\u001b[0m\u001b[1;33m\u001b[0m\u001b[1;33m\u001b[0m\u001b[0m\n\u001b[0;32m      6\u001b[0m \u001b[0mplt\u001b[0m\u001b[1;33m.\u001b[0m\u001b[0mxlabel\u001b[0m\u001b[1;33m(\u001b[0m\u001b[1;34m\"Generation\"\u001b[0m\u001b[1;33m)\u001b[0m\u001b[1;33m\u001b[0m\u001b[1;33m\u001b[0m\u001b[0m\n",
      "\u001b[1;31mNameError\u001b[0m: name 'most_fit' is not defined"
     ]
    }
   ],
   "source": [
    "import matplotlib.pyplot as plt\n",
    "%matplotlib inline\n",
    "\n",
    "plt.plot(most_fit)\n",
    "plt.title(\"Most Fit Trend\")\n",
    "plt.xlabel(\"Generation\")\n",
    "plt.ylabel(\"Fitness\")\n",
    "plt.show()"
   ]
  },
  {
   "cell_type": "code",
   "execution_count": 5,
   "metadata": {},
   "outputs": [
    {
     "ename": "NameError",
     "evalue": "name 'fittest_chromosome' is not defined",
     "output_type": "error",
     "traceback": [
      "\u001b[1;31m---------------------------------------------------------------------------\u001b[0m",
      "\u001b[1;31mNameError\u001b[0m                                 Traceback (most recent call last)",
      "\u001b[1;32m<ipython-input-5-792fdbfa523a>\u001b[0m in \u001b[0;36m<module>\u001b[1;34m\u001b[0m\n\u001b[1;32m----> 1\u001b[1;33m \u001b[0mfittest_chromosome\u001b[0m\u001b[1;33m\u001b[0m\u001b[1;33m\u001b[0m\u001b[0m\n\u001b[0m",
      "\u001b[1;31mNameError\u001b[0m: name 'fittest_chromosome' is not defined"
     ]
    }
   ],
   "source": [
    "fittest_chromosome"
   ]
  },
  {
   "cell_type": "code",
   "execution_count": null,
   "metadata": {},
   "outputs": [],
   "source": []
  }
 ],
 "metadata": {
  "anaconda-cloud": {},
  "kernelspec": {
   "display_name": "Python 3",
   "language": "python",
   "name": "python3"
  },
  "language_info": {
   "codemirror_mode": {
    "name": "ipython",
    "version": 3
   },
   "file_extension": ".py",
   "mimetype": "text/x-python",
   "name": "python",
   "nbconvert_exporter": "python",
   "pygments_lexer": "ipython3",
   "version": "3.7.1rc1"
  }
 },
 "nbformat": 4,
 "nbformat_minor": 2
}
